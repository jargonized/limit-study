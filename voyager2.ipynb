{
  "nbformat": 4,
  "nbformat_minor": 0,
  "metadata": {
    "colab": {
      "provenance": [],
      "gpuType": "T4"
    },
    "kernelspec": {
      "name": "python3",
      "display_name": "Python 3"
    },
    "language_info": {
      "name": "python"
    },
    "accelerator": "GPU"
  },
  "cells": [
    {
      "cell_type": "code",
      "source": [
        "%cd /content/"
      ],
      "metadata": {
        "colab": {
          "base_uri": "https://localhost:8080/"
        },
        "id": "gLWhw-ZrIbmX",
        "outputId": "e1e5328f-1c45-4848-fff0-2bd23dbb3131"
      },
      "execution_count": null,
      "outputs": [
        {
          "output_type": "stream",
          "name": "stdout",
          "text": [
            "/content\n"
          ]
        }
      ]
    },
    {
      "cell_type": "code",
      "source": [
        "!rm -rf voyager/"
      ],
      "metadata": {
        "id": "qCYzWEApIj-E"
      },
      "execution_count": null,
      "outputs": []
    },
    {
      "cell_type": "code",
      "source": [
        "!git clone https://github.com/eshnil2000/voyager"
      ],
      "metadata": {
        "colab": {
          "base_uri": "https://localhost:8080/"
        },
        "id": "V_mFVZDmW1gM",
        "outputId": "1b347ef0-ea20-44e8-ec1c-0fda0d5d2f14"
      },
      "execution_count": null,
      "outputs": [
        {
          "output_type": "stream",
          "name": "stdout",
          "text": [
            "Cloning into 'voyager'...\n",
            "remote: Enumerating objects: 349, done.\u001b[K\n",
            "remote: Counting objects: 100% (167/167), done.\u001b[K\n",
            "remote: Compressing objects: 100% (46/46), done.\u001b[K\n",
            "remote: Total 349 (delta 150), reused 120 (delta 120), pack-reused 182\u001b[K\n",
            "Receiving objects: 100% (349/349), 76.71 KiB | 12.78 MiB/s, done.\n",
            "Resolving deltas: 100% (246/246), done.\n"
          ]
        }
      ]
    },
    {
      "cell_type": "code",
      "source": [
        "%cd /content/voyager/"
      ],
      "metadata": {
        "colab": {
          "base_uri": "https://localhost:8080/"
        },
        "id": "nKWpoKKiW59x",
        "outputId": "574ec771-a165-43b9-eeff-0ce80b76ca67"
      },
      "execution_count": null,
      "outputs": [
        {
          "output_type": "stream",
          "name": "stdout",
          "text": [
            "/content/voyager\n"
          ]
        }
      ]
    },
    {
      "cell_type": "code",
      "source": [
        "!cp /content/drive/MyDrive/data/623.xalancbmk-s5.txt.xz .\n",
        "!xz --decompress 623.xalancbmk-s5.txt.xz"
      ],
      "metadata": {
        "id": "53BAqJvMmZCt"
      },
      "execution_count": null,
      "outputs": []
    },
    {
      "cell_type": "code",
      "source": [
        "!cp /content/drive/MyDrive/data/trace-3rd-run-1M.out.tar.gz .\n",
        "! tar -xvf trace-3rd-run-1M.out.tar.gz\n",
        "!cp trace-3rd-run-1M.out in.txt"
      ],
      "metadata": {
        "colab": {
          "base_uri": "https://localhost:8080/"
        },
        "id": "QuSRdGb4YAri",
        "outputId": "5a53e3e5-20fb-47a9-9419-e4e5cd3d181c"
      },
      "execution_count": null,
      "outputs": [
        {
          "output_type": "stream",
          "name": "stdout",
          "text": [
            "trace-3rd-run-1M.out\n"
          ]
        }
      ]
    },
    {
      "cell_type": "code",
      "source": [
        "!head -600000 623.xalancbmk-s5.txt >testxalanc.txt"
      ],
      "metadata": {
        "id": "rIuOF_LwmMJ2"
      },
      "execution_count": null,
      "outputs": []
    },
    {
      "cell_type": "code",
      "source": [
        "!cp 623.xalancbmk-s5.txt testxalanc.txt"
      ],
      "metadata": {
        "id": "2oO5rEJb3IJN"
      },
      "execution_count": null,
      "outputs": []
    },
    {
      "cell_type": "code",
      "source": [
        "!wc -l testxalanc.txt"
      ],
      "metadata": {
        "colab": {
          "base_uri": "https://localhost:8080/"
        },
        "id": "D-23i0Ts3dyc",
        "outputId": "863a173d-f7a6-41b7-aec6-3f9ef8de45fb"
      },
      "execution_count": null,
      "outputs": [
        {
          "output_type": "stream",
          "name": "stdout",
          "text": [
            "741261 testxalanc.txt\n"
          ]
        }
      ]
    },
    {
      "cell_type": "code",
      "source": [
        "!head -741262 trace-3rd-run-1M.out >test_temp.txt"
      ],
      "metadata": {
        "id": "bizpmFuQXu5X"
      },
      "execution_count": null,
      "outputs": []
    },
    {
      "cell_type": "code",
      "source": [
        "!cp trace-3rd-run-1M.out test_temp.txt"
      ],
      "metadata": {
        "id": "XDT9eppP5VZa"
      },
      "execution_count": null,
      "outputs": []
    },
    {
      "cell_type": "code",
      "source": [
        "!wc -l testxalanc.txt test_temp.txt"
      ],
      "metadata": {
        "colab": {
          "base_uri": "https://localhost:8080/"
        },
        "id": "zG2djin_nY3l",
        "outputId": "46e537f4-4c71-48e1-e90a-8d36ff4301aa"
      },
      "execution_count": null,
      "outputs": [
        {
          "output_type": "stream",
          "name": "stdout",
          "text": [
            "  741261 testxalanc.txt\n",
            "  741262 test_temp.txt\n",
            " 1482523 total\n"
          ]
        }
      ]
    },
    {
      "cell_type": "code",
      "source": [
        "!head -5 test_temp.txt"
      ],
      "metadata": {
        "id": "X5jP-9CgLlSH",
        "outputId": "f99ae7b9-c7f5-49af-e535-a0e72afe8e81",
        "colab": {
          "base_uri": "https://localhost:8080/"
        }
      },
      "execution_count": null,
      "outputs": [
        {
          "output_type": "stream",
          "name": "stdout",
          "text": [
            "Attaching 1 probe...\n",
            "ts=1988336 pid=745  inst=1835086430414849 cpuid=1 rip=0x559352c81b92 va=0x7fd244d2fc30\n",
            "ts=1988336 pid=745  inst=1835086448240641 cpuid=1 rip=0x559352c81b92 va=0x7fd244d2e9b0\n",
            "ts=1988336 pid=745  inst=1835086452482561 cpuid=1 rip=0x559352c81b92 va=0x7fd244d2d730\n",
            "ts=1988336 pid=745  inst=1835086457245697 cpuid=1 rip=0x559352c81b92 va=0x7fd244d2bb70\n"
          ]
        }
      ]
    },
    {
      "cell_type": "code",
      "source": [
        "!sed '1d' test_temp.txt >test.txt"
      ],
      "metadata": {
        "id": "BMeI_C73zas-"
      },
      "execution_count": null,
      "outputs": []
    },
    {
      "cell_type": "markdown",
      "source": [
        "# See github.com/Quangmire/ChampSim\n",
        "        # Uniq Instr ID, Cycle Count,   Load Address,      PC of Load,        LLC Hit or Miss\n",
        "        # int(split[0]), int(split[1]), int(split[2], 16), int(split[3], 16), split[4] == '1'\n",
        "\n",
        "        return (int(split[0]), int(split[3], 16), int(split[2], 16))"
      ],
      "metadata": {
        "id": "Wn-PbahJLlpS"
      }
    },
    {
      "cell_type": "code",
      "source": [
        "!head -5 testxalanc.txt"
      ],
      "metadata": {
        "colab": {
          "base_uri": "https://localhost:8080/"
        },
        "id": "njo9HMOoH8ye",
        "outputId": "7bb99dd0-1869-4ef7-8d4d-b56d1adb595e"
      },
      "execution_count": null,
      "outputs": [
        {
          "output_type": "stream",
          "name": "stdout",
          "text": [
            "4, 15, 28e837c88340, 406a82, 0\n",
            "7, 261, 28e837c86f40, 406a8e, 0\n",
            "17, 277, fdfd3a8c3bc0, 406abc, 0\n",
            "29, 278, fdfd3a8c4200, 7b5749, 0\n",
            "18, 610, fdfd3a8c5d80, 406abf, 0\n"
          ]
        }
      ]
    },
    {
      "cell_type": "code",
      "source": [
        "!head -5 test.txt"
      ],
      "metadata": {
        "colab": {
          "base_uri": "https://localhost:8080/"
        },
        "id": "6F7HjqfRz2q3",
        "outputId": "5cc94ea8-9e71-4170-da8c-56686b3024b8"
      },
      "execution_count": null,
      "outputs": [
        {
          "output_type": "stream",
          "name": "stdout",
          "text": [
            "ts=1988336 pid=745  inst=1835086430414849 cpuid=1 rip=0x559352c81b92 va=0x7fd244d2fc30\n",
            "ts=1988336 pid=745  inst=1835086448240641 cpuid=1 rip=0x559352c81b92 va=0x7fd244d2e9b0\n",
            "ts=1988336 pid=745  inst=1835086452482561 cpuid=1 rip=0x559352c81b92 va=0x7fd244d2d730\n",
            "ts=1988336 pid=745  inst=1835086457245697 cpuid=1 rip=0x559352c81b92 va=0x7fd244d2bb70\n",
            "ts=1988336 pid=745  inst=1835086462264321 cpuid=1 rip=0x559352c81b92 va=0x7fd244d29fb0\n"
          ]
        }
      ]
    },
    {
      "cell_type": "code",
      "source": [
        "!wc -l test.txt"
      ],
      "metadata": {
        "colab": {
          "base_uri": "https://localhost:8080/"
        },
        "id": "LuZdmHebIB7G",
        "outputId": "3f567b0e-73cc-451a-e2b8-95f6546fa4d0"
      },
      "execution_count": null,
      "outputs": [
        {
          "output_type": "stream",
          "name": "stdout",
          "text": [
            "741261 test.txt\n"
          ]
        }
      ]
    },
    {
      "cell_type": "code",
      "source": [
        "import re\n",
        "import csv\n",
        "import random\n",
        "\n",
        "infile='test.txt'\n",
        "infile_xalanc= 'testxalanc.txt'\n",
        "\n",
        "outfile='output.txt'\n",
        "UID=[]\n",
        "INST=[]\n",
        "I=[]\n",
        "# Read the data from the file\n",
        "with open(infile, 'r') as file:\n",
        "    data = file.readlines()\n",
        "with open(infile_xalanc, 'r') as filexalanc:\n",
        "    dataxalanc = filexalanc.readlines()\n",
        "var=0\n",
        "pattern = r'ts=(\\d+)\\s+pid=(\\d+)\\s+inst=(\\d+)\\s+cpuid=(\\d+)\\s+rip=([\\da-fx]+)\\s+va=([\\da-fx]+)'\n",
        "i=4\n",
        "# Prepare the CSV data\n",
        "csv_data = []\n",
        "for line, linexalanc in zip(data, dataxalanc):\n",
        "#for line in data:\n",
        "    #print(line)\n",
        "    #print(linexalanc)\n",
        "    #match = re.match(r'ts=(\\d+) mstress pid=(\\d+)  inst=(\\d+) cpuid=(\\d+) rip=([a-f\\d]+) va=([a-f\\d]+)', line)\n",
        "    match = re.match(pattern, line)\n",
        "    instr_ptr=linexalanc.split(sep=',')[3]\n",
        "    uid=linexalanc.split(sep=',')[0]\n",
        "    UID.append(uid)\n",
        "    I.append(i)\n",
        "    #print(linexalanc.split()[3])\n",
        "    if match:\n",
        "        #print('match')\n",
        "        ts, pid, inst, cpuid, rip, va = match.groups()\n",
        "\n",
        "        INST.append(inst)\n",
        "        #csv_data.append([ts, pid, inst, cpuid, rip, '0x'+va])\n",
        "        #csv_data.append(['0x'+va+\":\",'R', '0x'+va])\n",
        "        #csv_data.append([va+\":\",'R', va])\n",
        "        # Convert the hexadecimal address to an integer\n",
        "        addr_int = int(va, 16)\n",
        "\n",
        "        # Shift the address right by 12 bits\n",
        "        shifted_addr_int = addr_int >> 12\n",
        "\n",
        "        # Convert the shifted integer address back to hexadecimal format\n",
        "        shifted_addr_hex = hex(shifted_addr_int)\n",
        "        #shifted_addr_hex=va\n",
        "        #csv_data.append([ts, pid, inst, cpuid, rip, '0x'+va])\n",
        "        #Format Unique Instr Id, Cycle Count, Load Address, Instruction Pointer of the Load, LLC hit/miss\n",
        "        #sample 4, 15, 28e837c88340, 406a82, 0\n",
        "        modified_shifted_addr_hex = shifted_addr_hex.replace('0x', '')\n",
        "        rip= rip.replace('0x', '')\n",
        "        #print(\"shifted_addr_hex\",shifted_addr_hex,\"modified_shifted_addr_hex\", modified_shifted_addr_hex)\n",
        "        #increment = random.randint(increment_min, increment_max)\n",
        "        #current_value += increment\n",
        "        #increment2 = random.randint(increment_min2, increment_max2)\n",
        "        #current_value2 += increment2\n",
        "\n",
        "        #csv_data.append([str(current_value2), ' '+str(current_value), ' '+str(modified_shifted_addr_hex), ' '+str(random.choice(values)), ' '+str(0)])\n",
        "        #Unique Instr ID = inst, Cycle Count = ts, Load Address = va >>12, Intruction Pointer of Load = rip, LLC hit/miss = R/W\n",
        "        #csv_data.append([str(inst), ' '+str(ts), ' '+str(modified_shifted_addr_hex), ' '+str(rip), ' '+str(0)])\n",
        "        csv_data.append([str(uid), ' '+str(ts), ' '+str(modified_shifted_addr_hex), ' '+str(rip), ' '+str(0)])\n",
        "        #csv_data.append([str(i), ' '+str(ts), ' '+str(modified_shifted_addr_hex), ' '+str(rip), ' '+str(0)])\n",
        "        i=i+1\n",
        "\n",
        "# Write CSV data to a file\n",
        "with open(outfile, 'w', newline='') as csvfile:\n",
        "    csv_writer = csv.writer(csvfile,delimiter=\",\")\n",
        "    #csv_writer.writerow(['ts', 'pid', 'inst', 'cpuid', 'rip', 'va'])\n",
        "    csv_writer.writerows(csv_data)\n",
        "    print(\"csv_data\",csv_data)\n",
        "\n",
        "\n",
        "print(\"CSV conversion completed.\")"
      ],
      "metadata": {
        "colab": {
          "base_uri": "https://localhost:8080/"
        },
        "id": "o7Iio6OuXdsn",
        "outputId": "7b89492f-8645-4594-c1be-9eb5a39b83f3"
      },
      "execution_count": null,
      "outputs": [
        {
          "output_type": "stream",
          "name": "stdout",
          "text": [
            "csv_data "
          ]
        },
        {
          "output_type": "stream",
          "name": "stderr",
          "text": [
            "IOPub data rate exceeded.\n",
            "The notebook server will temporarily stop sending output\n",
            "to the client in order to avoid crashing it.\n",
            "To change this limit, set the config variable\n",
            "`--NotebookApp.iopub_data_rate_limit`.\n",
            "\n",
            "Current values:\n",
            "NotebookApp.iopub_data_rate_limit=1000000.0 (bytes/sec)\n",
            "NotebookApp.rate_limit_window=3.0 (secs)\n",
            "\n"
          ]
        }
      ]
    },
    {
      "cell_type": "code",
      "source": [
        "unique_values_set = set(UID)\n",
        "# Convert the list of integers to a single integer\n",
        "\n",
        "# Find the number of unique values\n",
        "num_unique_values = len(unique_values_set)\n",
        "print(\"Number of unique values:\", num_unique_values)\n",
        "integer_list = [int(x) for x in UID]\n",
        "print(min(integer_list), max(integer_list))\n"
      ],
      "metadata": {
        "colab": {
          "base_uri": "https://localhost:8080/"
        },
        "id": "MJLM6GMN-0HG",
        "outputId": "63e875c4-75cd-45f7-9eeb-aea447d7732a"
      },
      "execution_count": null,
      "outputs": [
        {
          "output_type": "stream",
          "name": "stdout",
          "text": [
            "Number of unique values: 600000\n",
            "4 412118873\n"
          ]
        }
      ]
    },
    {
      "cell_type": "code",
      "source": [
        "unique_values_set = set(I)\n",
        "# Convert the list of integers to a single integer\n",
        "\n",
        "# Find the number of unique values\n",
        "num_unique_values = len(unique_values_set)\n",
        "print(\"Number of unique values:\", num_unique_values)\n",
        "integer_list_I = [int(x) for x in I]\n",
        "print(min(integer_list_I), max(integer_list_I))"
      ],
      "metadata": {
        "colab": {
          "base_uri": "https://localhost:8080/"
        },
        "id": "n1VXx-w9ErQC",
        "outputId": "fbd4bd90-4b9e-474e-bc8e-6f8b89559c02"
      },
      "execution_count": null,
      "outputs": [
        {
          "output_type": "stream",
          "name": "stdout",
          "text": [
            "Number of unique values: 999999\n",
            "1 999999\n"
          ]
        }
      ]
    },
    {
      "cell_type": "code",
      "source": [
        "unique_values_set = set(INST)\n",
        "# Convert the list of integers to a single integer\n",
        "\n",
        "# Find the number of unique values\n",
        "num_unique_values = len(unique_values_set)\n",
        "print(\"Number of unique values:\", num_unique_values)\n",
        "integer_list_INST = [int(x) for x in INST]\n",
        "print(min(integer_list_INST), max(integer_list_INST))"
      ],
      "metadata": {
        "colab": {
          "base_uri": "https://localhost:8080/"
        },
        "id": "dUI-48CFDjtn",
        "outputId": "658b994d-4bf0-40bb-b477-334162840474"
      },
      "execution_count": null,
      "outputs": [
        {
          "output_type": "stream",
          "name": "stdout",
          "text": [
            "Number of unique values: 599429\n",
            "1835084906873344 1858178945859584\n"
          ]
        }
      ]
    },
    {
      "cell_type": "code",
      "source": [
        "import matplotlib.pyplot as plt\n",
        "plt.plot(integer_list,  color='blue')\n",
        "plt.xlabel('time steps')\n",
        "plt.ylabel('unique Instr ID')\n",
        "\n",
        "#plt.xlim(0, sorted(differences)[-11])  # Limit x-axis to top 10 bins\n",
        "plt.show()"
      ],
      "metadata": {
        "colab": {
          "base_uri": "https://localhost:8080/",
          "height": 465
        },
        "id": "8v2POQi6ANiY",
        "outputId": "1300ace1-045d-4976-b018-3e91ee08a6a3"
      },
      "execution_count": null,
      "outputs": [
        {
          "output_type": "display_data",
          "data": {
            "text/plain": [
              "<Figure size 640x480 with 1 Axes>"
            ],
            "image/png": "[encoded data removed]"
          },
          "metadata": {}
        }
      ]
    },
    {
      "cell_type": "code",
      "source": [
        "!wc -l output.txt"
      ],
      "metadata": {
        "colab": {
          "base_uri": "https://localhost:8080/"
        },
        "id": "FoISr8IBqAbT",
        "outputId": "45b6d889-5fcf-4b93-fe53-90743a3ae493"
      },
      "execution_count": null,
      "outputs": [
        {
          "output_type": "stream",
          "name": "stdout",
          "text": [
            "741261 output.txt\n"
          ]
        }
      ]
    },
    {
      "cell_type": "code",
      "source": [
        "!head -10 output.txt"
      ],
      "metadata": {
        "colab": {
          "base_uri": "https://localhost:8080/"
        },
        "id": "P7gM9E-CtGrJ",
        "outputId": "39df70c5-0516-469c-9b92-de6b1ff9f0f8"
      },
      "execution_count": null,
      "outputs": [
        {
          "output_type": "stream",
          "name": "stdout",
          "text": [
            "4, 1988336, 7fd244d2f, 559352c81b92, 0\r\n",
            "7, 1988336, 7fd244d2e, 559352c81b92, 0\r\n",
            "17, 1988336, 7fd244d2d, 559352c81b92, 0\r\n",
            "29, 1988336, 7fd244d2b, 559352c81b92, 0\r\n",
            "18, 1988336, 7fd244d29, 559352c81b92, 0\r\n",
            "24, 1988336, 7fd244d28, 559352c81b92, 0\r\n",
            "60, 1988336, 7fd244d27, 559352c81b92, 0\r\n",
            "64, 1988336, 7fd244d25, 559352c81b92, 0\r\n",
            "68, 1988336, 7fd244d23, 559352c81b92, 0\r\n",
            "76, 1988336, 7fd244d20, 559352c81b92, 0\r\n"
          ]
        }
      ]
    },
    {
      "cell_type": "code",
      "source": [
        "!pip install attrdict tensorflow_addons"
      ],
      "metadata": {
        "colab": {
          "base_uri": "https://localhost:8080/"
        },
        "id": "iBZwvkS1Wnc4",
        "outputId": "6845cd2b-92b5-4b08-ea50-99fd8fbf78ca"
      },
      "execution_count": null,
      "outputs": [
        {
          "output_type": "stream",
          "name": "stdout",
          "text": [
            "Collecting attrdict\n",
            "  Downloading attrdict-2.0.1-py2.py3-none-any.whl (9.9 kB)\n",
            "Collecting tensorflow_addons\n",
            "  Downloading tensorflow_addons-0.21.0-cp310-cp310-manylinux_2_17_x86_64.manylinux2014_x86_64.whl (612 kB)\n",
            "\u001b[2K     \u001b[90m━━━━━━━━━━━━━━━━━━━━━━━━━━━━━━━━━━━━━━\u001b[0m \u001b[32m612.1/612.1 kB\u001b[0m \u001b[31m11.6 MB/s\u001b[0m eta \u001b[36m0:00:00\u001b[0m\n",
            "\u001b[?25hRequirement already satisfied: six in /usr/local/lib/python3.10/dist-packages (from attrdict) (1.16.0)\n",
            "Requirement already satisfied: packaging in /usr/local/lib/python3.10/dist-packages (from tensorflow_addons) (23.1)\n",
            "Collecting typeguard<3.0.0,>=2.7 (from tensorflow_addons)\n",
            "  Downloading typeguard-2.13.3-py3-none-any.whl (17 kB)\n",
            "Installing collected packages: typeguard, attrdict, tensorflow_addons\n",
            "Successfully installed attrdict-2.0.1 tensorflow_addons-0.21.0 typeguard-2.13.3\n"
          ]
        }
      ]
    },
    {
      "cell_type": "code",
      "source": [
        "!python train.py --benchmark output.txt"
      ],
      "metadata": {
        "colab": {
          "base_uri": "https://localhost:8080/"
        },
        "id": "GGcpQ8YrDwW9",
        "outputId": "ad77eb34-1f8a-4728-aec8-713b98e56233"
      },
      "execution_count": null,
      "outputs": [
        {
          "output_type": "stream",
          "name": "stdout",
          "text": [
            "/usr/local/lib/python3.10/dist-packages/tensorflow_addons/utils/tfa_eol_msg.py:23: UserWarning: \n",
            "\n",
            "TensorFlow Addons (TFA) has ended development and introduction of new features.\n",
            "TFA has entered a minimal maintenance and release mode until a planned end of life in May 2024.\n",
            "Please modify downstream libraries to take dependencies from other repositories in our TensorFlow community (e.g. Keras, Keras-CV, and Keras-NLP). \n",
            "\n",
            "For more information see: https://github.com/tensorflow/addons/issues/2807 \n",
            "\n",
            "  warnings.warn(\n",
            "posix.uname_result(sysname='Linux', nodename='51f4023f7f60', release='5.15.109+', version='#1 SMP Fri Jun 9 10:57:30 UTC 2023', machine='x86_64') 0\n",
            "Namespace(benchmark='output.txt', model_path=None, debug=False, config='./configs/base.yaml', print_every=None, auto_resume=False, checkpoint_every=None, tb_dir=None, model_name='voyager')\n",
            "AttrDict({'name': 'Base Voyager', 'batch_size': 256, 'learning_rate': 0.001, 'learning_rate_decay': 2, 'min_learning_rate': 0.0001, 'num_epochs': 10, 'num_epochs_online': 20, 'steps_per_epoch': 2800, 'train_split': 0.8, 'valid_split': 0.1, 'multi_label': False, 'sequence_loss': False, 'use_current_pc': False, 'sequence_length': 16, 'offset_bits': 6, 'prediction_depth': 0, 'global_stream': False, 'pc_localized': True, 'use_deltas': True, 'pc_embed_size': 64, 'page_embed_size': 256, 'num_experts': 100, 'lstm_size': 256, 'lstm_dropout': 0.2, 'lstm_layers': 1, 'global_output': False})\n",
            "Reading in data...Done in 3.1516189575195312 seconds\n",
            "# Deltas: 3978 0.5263297168563112 0.01040745527515135\n",
            "Tensoring data...Done in 2.565892219543457 seconds\n",
            "DEBUG : Creating a model with...\n",
            "    pc vocab size   : 21\n",
            "    page vocab size : 1235\n",
            "Notice: Not checkpointing the model. To do so, please provide a path to --model-path.\n",
            "Notice: Not logging to Tensorboard. To do so, please provide a directory to --tb-dir.\n",
            "Epoch 1/10\n",
            "2800/2800 [==============================] - 467s 167ms/step - loss: 6.4762 - page_acc: 38.6367 - offset_acc: 37.9330 - acc: 35.8610 - val_loss: 8.2696 - val_page_acc: 27.9390 - val_offset_acc: 33.5958 - val_acc: 26.4228 - lr: 0.0010\n",
            "Epoch 2/10\n",
            "2800/2800 [==============================] - 462s 165ms/step - loss: 6.1823 - page_acc: 40.6920 - offset_acc: 39.5607 - acc: 37.7384 - val_loss: 8.3780 - val_page_acc: 27.8330 - val_offset_acc: 33.2644 - val_acc: 26.1021 - lr: 0.0010\n",
            "Epoch 3/10\n",
            "2800/2800 [==============================] - 462s 165ms/step - loss: 6.0086 - page_acc: 41.4788 - offset_acc: 40.4577 - acc: 37.9181 - val_loss: 8.6155 - val_page_acc: 27.7535 - val_offset_acc: 33.3148 - val_acc: 26.0755 - lr: 0.0010\n",
            "Epoch 4/10\n",
            "2800/2800 [==============================] - 464s 166ms/step - loss: 5.8066 - page_acc: 42.5891 - offset_acc: 41.7443 - acc: 38.2143 - val_loss: 8.6687 - val_page_acc: 27.6315 - val_offset_acc: 33.0789 - val_acc: 25.7495 - lr: 0.0010\n",
            "Epoch 5/10\n",
            "2800/2800 [==============================] - 462s 165ms/step - loss: 5.5991 - page_acc: 43.8320 - offset_acc: 43.2218 - acc: 38.5191 - val_loss: 8.7836 - val_page_acc: 27.5785 - val_offset_acc: 32.8429 - val_acc: 25.5162 - lr: 0.0010\n",
            "Epoch 6/10\n",
            "2801/2800 [==============================] - ETA: 0s - loss: 5.4322 - page_acc: 44.6751 - offset_acc: 44.4455 - acc: 38.5985\n",
            "Epoch 6: ReduceLROnPlateau reducing learning rate to 0.0005000000237487257.\n",
            "2800/2800 [==============================] - 462s 165ms/step - loss: 5.4321 - page_acc: 44.6751 - offset_acc: 44.4455 - acc: 38.5985 - val_loss: 9.0413 - val_page_acc: 27.6766 - val_offset_acc: 32.3048 - val_acc: 25.1504 - lr: 0.0010\n",
            "Epoch 7/10\n",
            "2800/2800 [==============================] - 462s 165ms/step - loss: 5.1927 - page_acc: 46.2090 - offset_acc: 46.5749 - acc: 39.4531 - val_loss: 9.1601 - val_page_acc: 27.3824 - val_offset_acc: 31.9708 - val_acc: 24.5832 - lr: 5.0000e-04\n",
            "Epoch 8/10\n",
            "2800/2800 [==============================] - 462s 165ms/step - loss: 5.0742 - page_acc: 46.7935 - offset_acc: 47.5006 - acc: 39.6052 - val_loss: 9.3312 - val_page_acc: 27.2260 - val_offset_acc: 31.7031 - val_acc: 24.2306 - lr: 5.0000e-04\n",
            "Epoch 9/10\n",
            "2800/2800 [==============================] - 463s 165ms/step - loss: 4.9589 - page_acc: 47.4300 - offset_acc: 48.4316 - acc: 39.9258 - val_loss: 9.4361 - val_page_acc: 27.1544 - val_offset_acc: 31.7217 - val_acc: 24.3154 - lr: 5.0000e-04\n",
            "Epoch 10/10\n",
            "2800/2800 [==============================] - 462s 165ms/step - loss: 4.8603 - page_acc: 47.9824 - offset_acc: 49.3331 - acc: 40.1574 - val_loss: 9.5695 - val_page_acc: 27.1995 - val_offset_acc: 30.9238 - val_acc: 23.7535 - lr: 5.0000e-04\n"
          ]
        }
      ]
    },
    {
      "cell_type": "code",
      "source": [
        "!python train.py --benchmark 623.xalancbmk-s5.txt"
      ],
      "metadata": {
        "colab": {
          "base_uri": "https://localhost:8080/"
        },
        "id": "KnyVTQ3mtqBv",
        "outputId": "ab8499ed-7d34-4282-b8eb-6fb02a0961a5"
      },
      "execution_count": null,
      "outputs": [
        {
          "output_type": "stream",
          "name": "stdout",
          "text": [
            "/usr/local/lib/python3.10/dist-packages/tensorflow_addons/utils/tfa_eol_msg.py:23: UserWarning: \n",
            "\n",
            "TensorFlow Addons (TFA) has ended development and introduction of new features.\n",
            "TFA has entered a minimal maintenance and release mode until a planned end of life in May 2024.\n",
            "Please modify downstream libraries to take dependencies from other repositories in our TensorFlow community (e.g. Keras, Keras-CV, and Keras-NLP). \n",
            "\n",
            "For more information see: https://github.com/tensorflow/addons/issues/2807 \n",
            "\n",
            "  warnings.warn(\n",
            "posix.uname_result(sysname='Linux', nodename='51f4023f7f60', release='5.15.109+', version='#1 SMP Fri Jun 9 10:57:30 UTC 2023', machine='x86_64') 0\n",
            "Namespace(benchmark='623.xalancbmk-s5.txt', model_path=None, debug=False, config='./configs/base.yaml', print_every=None, auto_resume=False, checkpoint_every=None, tb_dir=None, model_name='voyager')\n",
            "AttrDict({'name': 'Base Voyager', 'batch_size': 256, 'learning_rate': 0.001, 'learning_rate_decay': 2, 'min_learning_rate': 0.0001, 'num_epochs': 10, 'num_epochs_online': 10, 'steps_per_epoch': 4000, 'train_split': 0.8, 'valid_split': 0.1, 'multi_label': False, 'sequence_loss': False, 'use_current_pc': False, 'sequence_length': 16, 'offset_bits': 6, 'prediction_depth': 0, 'global_stream': False, 'pc_localized': True, 'use_deltas': True, 'pc_embed_size': 64, 'page_embed_size': 256, 'num_experts': 100, 'lstm_size': 256, 'lstm_dropout': 0.2, 'lstm_layers': 1, 'global_output': False})\n",
            "Reading in data...Done in 3.213447093963623 seconds\n",
            "# Deltas: 18287 0.8086583532325108 0.05885116804459134\n",
            "Tensoring data...Done in 2.829127073287964 seconds\n",
            "DEBUG : Creating a model with...\n",
            "    pc vocab size   : 655\n",
            "    page vocab size : 3912\n",
            "Notice: Not checkpointing the model. To do so, please provide a path to --model-path.\n",
            "Notice: Not logging to Tensorboard. To do so, please provide a directory to --tb-dir.\n",
            "===\n",
            "4000 256\n",
            "===\n",
            "16 0 None\n",
            "===\n",
            "===\n",
            "16 None\n",
            "===\n",
            "Traceback (most recent call last):\n",
            "  File \"/content/voyager/train.py\", line 37, in <module>\n",
            "    main()\n",
            "  File \"/content/voyager/train.py\", line 34, in main\n",
            "    model_wrapper.train()\n",
            "  File \"/content/voyager/voyager/model_wrappers.py\", line 173, in train\n",
            "    train_ds, valid_ds, test_ds = self.benchmark.split(self.epoch, self.step)\n",
            "  File \"/content/voyager/voyager/data_loader.py\", line 448, in split\n",
            "    .map(random_closure(self.config.sequence_length + self.config.prediction_depth, train_split))\n",
            "  File \"/usr/local/lib/python3.10/dist-packages/tensorflow/python/data/ops/dataset_ops.py\", line 2278, in map\n",
            "    return map_op._map_v2(\n",
            "  File \"/usr/local/lib/python3.10/dist-packages/tensorflow/python/data/ops/map_op.py\", line 37, in _map_v2\n",
            "    return _MapDataset(\n",
            "  File \"/usr/local/lib/python3.10/dist-packages/tensorflow/python/data/ops/map_op.py\", line 107, in __init__\n",
            "    self._map_func = structured_function.StructuredFunctionWrapper(\n",
            "  File \"/usr/local/lib/python3.10/dist-packages/tensorflow/python/data/ops/structured_function.py\", line 272, in __init__\n",
            "    self._function = fn_factory()\n",
            "  File \"/usr/local/lib/python3.10/dist-packages/tensorflow/python/eager/polymorphic_function/polymorphic_function.py\", line 1189, in get_concrete_function\n",
            "    concrete = self._get_concrete_function_garbage_collected(*args, **kwargs)\n",
            "  File \"/usr/local/lib/python3.10/dist-packages/tensorflow/python/eager/polymorphic_function/polymorphic_function.py\", line 1169, in _get_concrete_function_garbage_collected\n",
            "    self._initialize(args, kwargs, add_initializers_to=initializers)\n",
            "  File \"/usr/local/lib/python3.10/dist-packages/tensorflow/python/eager/polymorphic_function/polymorphic_function.py\", line 694, in _initialize\n",
            "    self._variable_creation_fn    # pylint: disable=protected-access\n",
            "  File \"/usr/local/lib/python3.10/dist-packages/tensorflow/python/eager/polymorphic_function/tracing_compiler.py\", line 176, in _get_concrete_function_internal_garbage_collected\n",
            "    concrete_function, _ = self._maybe_define_concrete_function(args, kwargs)\n",
            "  File \"/usr/local/lib/python3.10/dist-packages/tensorflow/python/eager/polymorphic_function/tracing_compiler.py\", line 171, in _maybe_define_concrete_function\n",
            "    return self._maybe_define_function(args, kwargs)\n",
            "  File \"/usr/local/lib/python3.10/dist-packages/tensorflow/python/eager/polymorphic_function/tracing_compiler.py\", line 398, in _maybe_define_function\n",
            "    concrete_function = self._create_concrete_function(\n",
            "  File \"/usr/local/lib/python3.10/dist-packages/tensorflow/python/eager/polymorphic_function/tracing_compiler.py\", line 305, in _create_concrete_function\n",
            "    func_graph_module.func_graph_from_py_func(\n",
            "  File \"/usr/local/lib/python3.10/dist-packages/tensorflow/python/framework/func_graph.py\", line 1055, in func_graph_from_py_func\n",
            "    func_outputs = python_func(*func_args, **func_kwargs)\n",
            "  File \"/usr/local/lib/python3.10/dist-packages/tensorflow/python/eager/polymorphic_function/polymorphic_function.py\", line 597, in wrapped_fn\n",
            "    out = weak_wrapped_fn().__wrapped__(*args, **kwds)\n",
            "  File \"/usr/local/lib/python3.10/dist-packages/tensorflow/python/data/ops/structured_function.py\", line 238, in wrapped_fn\n",
            "    ret = wrapper_helper(*args)\n",
            "  File \"/usr/local/lib/python3.10/dist-packages/tensorflow/python/data/ops/structured_function.py\", line 168, in wrapper_helper\n",
            "    ret = autograph.tf_convert(self._func, ag_ctx)(*nested_args)\n",
            "  File \"/usr/local/lib/python3.10/dist-packages/tensorflow/python/autograph/impl/api.py\", line 693, in wrapper\n",
            "    raise e.ag_error_metadata.to_exception(e)\n",
            "  File \"/usr/local/lib/python3.10/dist-packages/tensorflow/python/autograph/impl/api.py\", line 690, in wrapper\n",
            "    return converted_call(f, args, kwargs, options=options)\n",
            "  File \"/usr/local/lib/python3.10/dist-packages/tensorflow/python/autograph/impl/api.py\", line 439, in converted_call\n",
            "    result = converted_f(*effective_args, **kwargs)\n",
            "  File \"/tmp/__autograph_generated_file49ycsoqo.py\", line 17, in tf__random\n",
            "    retval_ = ag__.converted_call(ag__.ld(tf).random.stateless_uniform, ((),), dict(minval=ag__.ld(minval), maxval=ag__.ld(maxval), seed=(ag__.ld(epoch), ag__.ld(step)), dtype=ag__.ld(tf).dtypes.int64), fscope)\n",
            "  File \"/usr/local/lib/python3.10/dist-packages/tensorflow/python/autograph/impl/api.py\", line 377, in converted_call\n",
            "    return _call_unconverted(f, args, kwargs, options)\n",
            "  File \"/usr/local/lib/python3.10/dist-packages/tensorflow/python/autograph/impl/api.py\", line 459, in _call_unconverted\n",
            "    return f(*args, **kwargs)\n",
            "  File \"/usr/local/lib/python3.10/dist-packages/tensorflow/python/util/traceback_utils.py\", line 153, in error_handler\n",
            "    raise e.with_traceback(filtered_tb) from None\n",
            "  File \"/usr/local/lib/python3.10/dist-packages/tensorflow/python/ops/stateless_random_ops.py\", line 489, in stateless_random_uniform\n",
            "    raise ValueError(\n",
            "ValueError: in user code:\n",
            "\n",
            "    File \"/content/voyager/voyager/data_loader.py\", line 397, in random  *\n",
            "        return tf.random.stateless_uniform((), minval=minval, maxval=maxval, seed=(epoch, step), dtype=tf.dtypes.int64)\n",
            "\n",
            "    ValueError: For integer `dtype` argument <dtype: 'int64'>, argument `minval` and `maxval` must be both None or not None. Got `minval`=16 and `maxval`=None.\n",
            "\n"
          ]
        }
      ]
    },
    {
      "cell_type": "code",
      "source": [
        "!python online.py --prefetch-file prefetch.txt --benchmark output.txt"
      ],
      "metadata": {
        "colab": {
          "base_uri": "https://localhost:8080/"
        },
        "id": "rw9DhqMrqix9",
        "outputId": "d1e2833e-92b2-4b5e-c451-68516b285e19"
      },
      "execution_count": null,
      "outputs": [
        {
          "output_type": "stream",
          "name": "stdout",
          "text": [
            "/usr/local/lib/python3.10/dist-packages/tensorflow_addons/utils/tfa_eol_msg.py:23: UserWarning: \n",
            "\n",
            "TensorFlow Addons (TFA) has ended development and introduction of new features.\n",
            "TFA has entered a minimal maintenance and release mode until a planned end of life in May 2024.\n",
            "Please modify downstream libraries to take dependencies from other repositories in our TensorFlow community (e.g. Keras, Keras-CV, and Keras-NLP). \n",
            "\n",
            "For more information see: https://github.com/tensorflow/addons/issues/2807 \n",
            "\n",
            "  warnings.warn(\n",
            "posix.uname_result(sysname='Linux', nodename='51f4023f7f60', release='5.15.109+', version='#1 SMP Fri Jun 9 10:57:30 UTC 2023', machine='x86_64') 0\n",
            "Namespace(benchmark='output.txt', model_path=None, debug=False, config='./configs/base.yaml', print_every=None, auto_resume=False, checkpoint_every=None, tb_dir=None, model_name='voyager', prefetch_file='prefetch.txt')\n",
            "AttrDict({'name': 'Base Voyager', 'batch_size': 256, 'learning_rate': 0.001, 'learning_rate_decay': 2, 'min_learning_rate': 0.0001, 'num_epochs': 10, 'num_epochs_online': 10, 'steps_per_epoch': 2800, 'train_split': 0.8, 'valid_split': 0.1, 'multi_label': False, 'sequence_loss': False, 'use_current_pc': False, 'sequence_length': 16, 'offset_bits': 6, 'prediction_depth': 0, 'global_stream': False, 'pc_localized': True, 'use_deltas': True, 'pc_embed_size': 64, 'page_embed_size': 256, 'num_experts': 100, 'lstm_size': 256, 'lstm_dropout': 0.2, 'lstm_layers': 1, 'global_output': False})\n",
            "Reading in data...Done in 5.514593601226807 seconds\n",
            "# Deltas: 3978 0.5263297168563112 0.01040745527515135\n",
            "Tensoring data...Done in 2.2300515174865723 seconds\n",
            "DEBUG : Creating a model with...\n",
            "    pc vocab size   : 21\n",
            "    page vocab size : 1235\n",
            "Notice: Not checkpointing the model. To do so, please provide a path to --model-path.\n",
            "Notice: Not logging to Tensorboard. To do so, please provide a directory to --tb-dir.\n",
            "Epoch 1/10\n",
            "2800/2800 [==============================] - 518s 185ms/step - loss: 4.5542 - page_acc: 55.7108 - offset_acc: 51.5325 - acc: 48.4519 - val_loss: 10.8226 - val_page_acc: 12.9097 - val_offset_acc: 23.7125 - val_acc: 12.0944 - lr: 0.0010\n",
            "Epoch 2/10\n",
            "2800/2800 [==============================] - 474s 169ms/step - loss: 2.9164 - page_acc: 69.4093 - offset_acc: 67.7081 - acc: 58.3114 - val_loss: 13.4671 - val_page_acc: 11.5740 - val_offset_acc: 22.3826 - val_acc: 10.5136 - lr: 0.0010\n",
            "Epoch 3/10\n",
            "2800/2800 [==============================] - 475s 170ms/step - loss: 1.5860 - page_acc: 82.4381 - offset_acc: 82.4174 - acc: 72.6345 - val_loss: 15.1380 - val_page_acc: 11.3348 - val_offset_acc: 21.5894 - val_acc: 10.1675 - lr: 0.0010\n",
            "Epoch 4/10\n",
            "2800/2800 [==============================] - 475s 169ms/step - loss: 0.9072 - page_acc: 90.1404 - offset_acc: 89.6398 - acc: 82.8210 - val_loss: 17.4069 - val_page_acc: 11.7169 - val_offset_acc: 20.2479 - val_acc: 10.0571 - lr: 0.0010\n",
            "Epoch 5/10\n",
            "2800/2800 [==============================] - 474s 169ms/step - loss: 0.5897 - page_acc: 93.8737 - offset_acc: 93.0067 - acc: 88.3033 - val_loss: 18.9977 - val_page_acc: 11.1083 - val_offset_acc: 20.8414 - val_acc: 9.7772 - lr: 0.0010\n",
            "Epoch 6/10\n",
            "2801/2800 [==============================] - ETA: 0s - loss: 0.4402 - page_acc: 95.6180 - offset_acc: 94.5850 - acc: 91.0497\n",
            "Epoch 6: ReduceLROnPlateau reducing learning rate to 0.0005000000237487257.\n",
            "2800/2800 [==============================] - 473s 169ms/step - loss: 0.4402 - page_acc: 95.6180 - offset_acc: 94.5850 - acc: 91.0497 - val_loss: 19.3892 - val_page_acc: 11.4091 - val_offset_acc: 20.1340 - val_acc: 9.7749 - lr: 0.0010\n",
            "Epoch 7/10\n",
            "2800/2800 [==============================] - 473s 169ms/step - loss: 0.2600 - page_acc: 98.0805 - offset_acc: 97.0905 - acc: 95.5910 - val_loss: 20.7917 - val_page_acc: 10.4973 - val_offset_acc: 20.4929 - val_acc: 9.1384 - lr: 5.0000e-04\n",
            "Epoch 8/10\n",
            "2800/2800 [==============================] - 473s 169ms/step - loss: 0.2185 - page_acc: 98.5671 - offset_acc: 97.4865 - acc: 96.4139 - val_loss: 21.5189 - val_page_acc: 10.6065 - val_offset_acc: 21.1689 - val_acc: 9.4683 - lr: 5.0000e-04\n",
            "Epoch 9/10\n",
            "2800/2800 [==============================] - 473s 169ms/step - loss: 0.1959 - page_acc: 98.7755 - offset_acc: 97.6600 - acc: 96.7762 - val_loss: 22.4138 - val_page_acc: 10.2674 - val_offset_acc: 20.4802 - val_acc: 8.9898 - lr: 5.0000e-04\n",
            "Epoch 10/10\n",
            "2800/2800 [==============================] - 473s 169ms/step - loss: 0.1831 - page_acc: 98.8775 - offset_acc: 97.7192 - acc: 96.9393 - val_loss: 21.9420 - val_page_acc: 10.7982 - val_offset_acc: 20.3849 - val_acc: 9.4462 - lr: 5.0000e-04\n",
            "Traceback (most recent call last):\n",
            "  File \"/content/voyager/online.py\", line 38, in <module>\n",
            "    main()\n",
            "  File \"/content/voyager/online.py\", line 35, in main\n",
            "    model_wrapper.train_online(args.prefetch_file)\n",
            "  File \"/content/voyager/voyager/model_wrappers.py\", line 237, in train_online\n",
            "    self.load(self.model_path)\n",
            "  File \"/content/voyager/voyager/model_wrappers.py\", line 148, in load\n",
            "    self.model.load(model_path)\n",
            "  File \"/content/voyager/voyager/models.py\", line 196, in load\n",
            "    self.load_weights(model_path).expect_partial()\n",
            "  File \"/usr/local/lib/python3.10/dist-packages/keras/src/utils/traceback_utils.py\", line 70, in error_handler\n",
            "    raise e.with_traceback(filtered_tb) from None\n",
            "  File \"/usr/local/lib/python3.10/dist-packages/keras/src/saving/legacy/saving_utils.py\", line 368, in is_hdf5_filepath\n",
            "    filepath.endswith(\".h5\")\n",
            "AttributeError: 'NoneType' object has no attribute 'endswith'\n"
          ]
        }
      ]
    },
    {
      "cell_type": "code",
      "source": [],
      "metadata": {
        "id": "73woKnJRdB6x"
      },
      "execution_count": null,
      "outputs": []
    }
  ]
}